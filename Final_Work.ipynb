{
 "cells": [
  {
   "cell_type": "code",
   "execution_count": 5,
   "metadata": {},
   "outputs": [],
   "source": [
    "import numpy as np\n",
    "from scipy.stats import t\n",
    "from scipy.stats import norm\n",
    "import matplotlib.pyplot as plt\n",
    "from scipy import stats\n",
    "import pandas as pd\n",
    "import io\n",
    "import requests\n",
    "import seaborn as sns\n",
    "from matplotlib.pyplot import figure\n",
    "from pylab import rcParams\n",
    "from random import randint \n",
    "import statistics\n",
    "import numpy.linalg as la\n",
    "import math\n",
    "\n",
    "%matplotlib inline"
   ]
  },
  {
   "cell_type": "code",
   "execution_count": null,
   "metadata": {},
   "outputs": [],
   "source": [
    "Загружаем датасет"
   ]
  },
  {
   "cell_type": "code",
   "execution_count": 7,
   "metadata": {
    "scrolled": true
   },
   "outputs": [
    {
     "data": {
      "text/html": [
       "<div>\n",
       "<style scoped>\n",
       "    .dataframe tbody tr th:only-of-type {\n",
       "        vertical-align: middle;\n",
       "    }\n",
       "\n",
       "    .dataframe tbody tr th {\n",
       "        vertical-align: top;\n",
       "    }\n",
       "\n",
       "    .dataframe thead th {\n",
       "        text-align: right;\n",
       "    }\n",
       "</style>\n",
       "<table border=\"1\" class=\"dataframe\">\n",
       "  <thead>\n",
       "    <tr style=\"text-align: right;\">\n",
       "      <th></th>\n",
       "      <th>InvoiceNo</th>\n",
       "      <th>StockCode</th>\n",
       "      <th>Description</th>\n",
       "      <th>Quantity</th>\n",
       "      <th>InvoiceDate</th>\n",
       "      <th>UnitPrice</th>\n",
       "      <th>CustomerID</th>\n",
       "      <th>Country</th>\n",
       "    </tr>\n",
       "  </thead>\n",
       "  <tbody>\n",
       "    <tr>\n",
       "      <th>0</th>\n",
       "      <td>536365</td>\n",
       "      <td>84029E</td>\n",
       "      <td>RED WOOLLY HOTTIE WHITE HEART.</td>\n",
       "      <td>6</td>\n",
       "      <td>12/1/10 8:26</td>\n",
       "      <td>3,39</td>\n",
       "      <td>17850.0</td>\n",
       "      <td>United Kingdom</td>\n",
       "    </tr>\n",
       "    <tr>\n",
       "      <th>1</th>\n",
       "      <td>536367</td>\n",
       "      <td>84879</td>\n",
       "      <td>ASSORTED COLOUR BIRD ORNAMENT</td>\n",
       "      <td>32</td>\n",
       "      <td>12/1/10 8:34</td>\n",
       "      <td>1,69</td>\n",
       "      <td>13047.0</td>\n",
       "      <td>United Kingdom</td>\n",
       "    </tr>\n",
       "    <tr>\n",
       "      <th>2</th>\n",
       "      <td>536367</td>\n",
       "      <td>21755</td>\n",
       "      <td>LOVE BUILDING BLOCK WORD</td>\n",
       "      <td>3</td>\n",
       "      <td>12/1/10 8:34</td>\n",
       "      <td>5,95</td>\n",
       "      <td>13047.0</td>\n",
       "      <td>United Kingdom</td>\n",
       "    </tr>\n",
       "    <tr>\n",
       "      <th>3</th>\n",
       "      <td>536368</td>\n",
       "      <td>22914</td>\n",
       "      <td>BLUE COAT RACK PARIS FASHION</td>\n",
       "      <td>3</td>\n",
       "      <td>12/1/10 8:34</td>\n",
       "      <td>4,95</td>\n",
       "      <td>13047.0</td>\n",
       "      <td>United Kingdom</td>\n",
       "    </tr>\n",
       "    <tr>\n",
       "      <th>4</th>\n",
       "      <td>536373</td>\n",
       "      <td>84406B</td>\n",
       "      <td>CREAM CUPID HEARTS COAT HANGER</td>\n",
       "      <td>8</td>\n",
       "      <td>12/1/10 9:02</td>\n",
       "      <td>2,75</td>\n",
       "      <td>17850.0</td>\n",
       "      <td>United Kingdom</td>\n",
       "    </tr>\n",
       "  </tbody>\n",
       "</table>\n",
       "</div>"
      ],
      "text/plain": [
       "  InvoiceNo StockCode                     Description  Quantity   InvoiceDate  \\\n",
       "0    536365    84029E  RED WOOLLY HOTTIE WHITE HEART.         6  12/1/10 8:26   \n",
       "1    536367     84879   ASSORTED COLOUR BIRD ORNAMENT        32  12/1/10 8:34   \n",
       "2    536367     21755        LOVE BUILDING BLOCK WORD         3  12/1/10 8:34   \n",
       "3    536368     22914    BLUE COAT RACK PARIS FASHION         3  12/1/10 8:34   \n",
       "4    536373    84406B  CREAM CUPID HEARTS COAT HANGER         8  12/1/10 9:02   \n",
       "\n",
       "  UnitPrice  CustomerID         Country  \n",
       "0      3,39     17850.0  United Kingdom  \n",
       "1      1,69     13047.0  United Kingdom  \n",
       "2      5,95     13047.0  United Kingdom  \n",
       "3      4,95     13047.0  United Kingdom  \n",
       "4      2,75     17850.0  United Kingdom  "
      ]
     },
     "execution_count": 7,
     "metadata": {},
     "output_type": "execute_result"
    }
   ],
   "source": [
    "stats = pd.read_csv('Data Sample.csv')\n",
    "stats.head()"
   ]
  },
  {
   "cell_type": "code",
   "execution_count": null,
   "metadata": {},
   "outputs": [],
   "source": [
    "Определяем наиболее продаваемые товары в ассортиментной матрице"
   ]
  },
  {
   "cell_type": "code",
   "execution_count": 9,
   "metadata": {
    "scrolled": true
   },
   "outputs": [
    {
     "data": {
      "text/plain": [
       "WHITE HANGING HEART T-LIGHT HOLDER    243\n",
       "JUMBO BAG RED RETROSPOT               222\n",
       "REGENCY CAKESTAND 3 TIER              204\n",
       "LUNCH BAG RED RETROSPOT               175\n",
       "PACK OF 72 RETROSPOT CAKE CASES       164\n",
       "PARTY BUNTING                         162\n",
       "LUNCH BAG  BLACK SKULL.               149\n",
       "JUMBO BAG PINK POLKADOT               141\n",
       "SET OF 3 CAKE TINS PANTRY DESIGN      140\n",
       "NATURAL SLATE HEART CHALKBOARD        138\n",
       "ASSORTED COLOUR BIRD ORNAMENT         138\n",
       "JUMBO SHOPPER VINTAGE RED PAISLEY     137\n",
       "ALARM CLOCK BAKELIKE RED              126\n",
       "WOODEN PICTURE FRAME WHITE FINISH     125\n",
       "SPOTTY BUNTING                        123\n",
       "PAPER CHAIN KIT 50'S CHRISTMAS        120\n",
       "LUNCH BAG PINK POLKADOT               119\n",
       "LUNCH BAG SPACEBOY DESIGN             119\n",
       "POSTAGE                               118\n",
       "JAM MAKING SET PRINTED                118\n",
       "Name: Description, dtype: int64"
      ]
     },
     "execution_count": 9,
     "metadata": {},
     "output_type": "execute_result"
    }
   ],
   "source": [
    "stats['Description'].value_counts().head(20)"
   ]
  },
  {
   "cell_type": "code",
   "execution_count": null,
   "metadata": {},
   "outputs": [],
   "source": [
    "Определяем страны с самым большим количеством неотгруженного товара"
   ]
  },
  {
   "cell_type": "code",
   "execution_count": 25,
   "metadata": {
    "scrolled": false
   },
   "outputs": [
    {
     "data": {
      "text/plain": [
       "Country\n",
       "United Kingdom   -9600\n",
       "France            -250\n",
       "Sweden            -240\n",
       "EIRE              -192\n",
       "Japan              -40\n",
       "USA                -36\n",
       "Germany            -32\n",
       "Australia          -24\n",
       "Netherlands        -12\n",
       "Malta               -4\n",
       "Poland              -2\n",
       "Belgium             -2\n",
       "Cyprus              -1\n",
       "Singapore           -1\n",
       "Spain               -1\n",
       "Hong Kong           -1\n",
       "Switzerland         -1\n",
       "Portugal            -1\n",
       "Italy               -1\n",
       "Norway               1\n",
       "Name: Quantity, dtype: int64"
      ]
     },
     "execution_count": 25,
     "metadata": {},
     "output_type": "execute_result"
    }
   ],
   "source": [
    "stats.groupby('Country').min().sort_values('Quantity').head(20)['Quantity']"
   ]
  },
  {
   "cell_type": "code",
   "execution_count": null,
   "metadata": {},
   "outputs": [],
   "source": [
    "Определяем ассортимент покупаемого товара на одного пользователя"
   ]
  },
  {
   "cell_type": "code",
   "execution_count": 19,
   "metadata": {
    "scrolled": true
   },
   "outputs": [
    {
     "data": {
      "text/plain": [
       "RED WOOLLY HOTTIE WHITE HEART.         3\n",
       "WOOD S/3 CABINET ANT WHITE FINISH      3\n",
       "HAND WARMER UNION JACK                 2\n",
       "WOODEN PICTURE FRAME WHITE FINISH      2\n",
       "KNITTED UNION FLAG HOT WATER BOTTLE    2\n",
       "WOODEN FRAME ANTIQUE WHITE             2\n",
       "HAND WARMER RED POLKA DOT              1\n",
       "JUMBO SHOPPER VINTAGE RED PAISLEY      1\n",
       "CREAM CUPID HEARTS COAT HANGER         1\n",
       "EDWARDIAN PARASOL RED                  1\n",
       "WHITE METAL LANTERN                    1\n",
       "WOOD 2 DRAWER CABINET WHITE FINISH     1\n",
       "RETRO COFFEE MUGS ASSORTED             1\n",
       "SAVE THE PLANET MUG                    1\n",
       "IVORY EMBROIDERED QUILT                1\n",
       "WHITE HANGING HEART T-LIGHT HOLDER     1\n",
       "Name: Description, dtype: int64"
      ]
     },
     "execution_count": 19,
     "metadata": {},
     "output_type": "execute_result"
    }
   ],
   "source": [
    "stats[stats['CustomerID'] == 17850.0 ]['Description'].value_counts()"
   ]
  },
  {
   "cell_type": "code",
   "execution_count": null,
   "metadata": {},
   "outputs": [],
   "source": [
    "Смотрим товары в какой ценовой категории продаются чаще всего"
   ]
  },
  {
   "cell_type": "code",
   "execution_count": 26,
   "metadata": {},
   "outputs": [
    {
     "data": {
      "text/plain": [
       "1,25    5020\n",
       "1,65    3845\n",
       "0,85    2830\n",
       "2,95    2764\n",
       "0,42    2400\n",
       "4,95    1956\n",
       "3,75    1927\n",
       "2,1     1772\n",
       "0,83    1755\n",
       "2,46    1697\n",
       "2,08    1662\n",
       "4,13    1526\n",
       "1,95    1331\n",
       "2,55    1310\n",
       "1,45    1300\n",
       "1,63    1269\n",
       "3,29    1225\n",
       "0,39     850\n",
       "5,95     820\n",
       "0,65     773\n",
       "Name: UnitPrice, dtype: int64"
      ]
     },
     "execution_count": 26,
     "metadata": {},
     "output_type": "execute_result"
    }
   ],
   "source": [
    "stats['UnitPrice'].value_counts().head(20)"
   ]
  },
  {
   "cell_type": "code",
   "execution_count": null,
   "metadata": {},
   "outputs": [],
   "source": []
  }
 ],
 "metadata": {
  "kernelspec": {
   "display_name": "Python 3",
   "language": "python",
   "name": "python3"
  },
  "language_info": {
   "codemirror_mode": {
    "name": "ipython",
    "version": 3
   },
   "file_extension": ".py",
   "mimetype": "text/x-python",
   "name": "python",
   "nbconvert_exporter": "python",
   "pygments_lexer": "ipython3",
   "version": "3.7.3"
  }
 },
 "nbformat": 4,
 "nbformat_minor": 2
}
